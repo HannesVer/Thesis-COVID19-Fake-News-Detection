{
  "cells": [
    {
      "cell_type": "markdown",
      "source": [
        "Bigru. Need to run it in colab because GPU required rather than regular CPU\n",
        "\n",
        "\n",
        "The notebook is equivalent for both GloVe embeddings tried (standard and Twitter)\n"
      ],
      "metadata": {
        "id": "KqvtE-Oxy_CC"
      },
      "id": "KqvtE-Oxy_CC"
    },
    {
      "cell_type": "code",
      "source": [
        "from google.colab import drive\n",
        "drive.mount('/content/drive')"
      ],
      "metadata": {
        "colab": {
          "base_uri": "https://localhost:8080/"
        },
        "id": "XUbAhHuswZkC",
        "outputId": "4bdc8930-c0e2-4977-ac15-b2f490329107"
      },
      "id": "XUbAhHuswZkC",
      "execution_count": null,
      "outputs": [
        {
          "output_type": "stream",
          "name": "stdout",
          "text": [
            "Mounted at /content/drive\n"
          ]
        }
      ]
    },
    {
      "cell_type": "code",
      "execution_count": null,
      "metadata": {
        "id": "r2nYHbWSwTA3"
      },
      "outputs": [],
      "source": [
        "# Imports\n",
        "# Basic\n",
        "import numpy as np # linear algebra\n",
        "import pandas as pd # data processing, CSV file I/O (e.g. pd.read_csv)\n",
        "import os, random, math\n",
        "from sklearn.model_selection import train_test_split\n",
        "from sklearn import metrics\n",
        "\n",
        "# DL\n",
        "import tensorflow as tf\n",
        "import keras\n",
        "import keras.backend as K\n",
        "from keras.callbacks import Callback\n",
        "from keras.preprocessing.text import Tokenizer\n",
        "from keras.preprocessing.sequence import pad_sequences\n",
        "from keras import Model\n",
        "from keras.layers import Layer, Input, Embedding, Dropout, SpatialDropout1D, GlobalAveragePooling1D, Attention\n",
        "from keras.layers import GlobalMaxPooling1D, Bidirectional, GRU, CuDNNGRU, Activation, Dense\n",
        "from keras.layers import Dot, Reshape, TimeDistributed, concatenate, BatchNormalization\n",
        "from keras import initializers, regularizers, constraints\n",
        "from tensorflow.keras.optimizers import Adam, SGD, RMSprop\n",
        "\n",
        "\n",
        "# Visualization\n",
        "import matplotlib.pyplot as plt\n",
        "from IPython.core.display import display, HTML\n",
        "import seaborn as sns\n",
        "sns.set()"
      ],
      "id": "r2nYHbWSwTA3"
    },
    {
      "cell_type": "code",
      "execution_count": null,
      "metadata": {
        "id": "Pri_rJGhwTA_"
      },
      "outputs": [],
      "source": [
        "#Hyperparameters\n",
        "\n",
        "EMB_SIZE = 100\n",
        "MAX_FEATURES = 50000 # how many unique words to use (i.e num rows in embedding vector)\n",
        "MAX_LEN = 100 # Maximum length for texts\n",
        "EMBEDDING_FILE = \"/content/drive/MyDrive/Thesis/Data/Embedding files/glove.twitter.27B.100d.txt\""
      ],
      "id": "Pri_rJGhwTA_"
    },
    {
      "cell_type": "code",
      "execution_count": null,
      "metadata": {
        "id": "bVtCnxujwTBA"
      },
      "outputs": [],
      "source": [
        "# Util functions\n",
        "# Custom F1 callback\n",
        "class F1Evaluation(Callback):\n",
        "    def __init__(self, validation_data=(), interval=1):\n",
        "        super(Callback, self).__init__()\n",
        "\n",
        "        self.interval = interval\n",
        "        self.X_val, self.y_val = validation_data\n",
        "\n",
        "    def on_epoch_end(self, epoch, logs={}):\n",
        "        if epoch % self.interval == 0:\n",
        "            y_pred = self.model.predict(self.X_val, verbose=0)\n",
        "            y_pred = (y_pred > 0.35).astype(int)\n",
        "            score = metrics.f1_score(self.y_val, y_pred, average=\"micro\")\n",
        "            print(\"\\n F1 Score - epoch: %d - score: %.6f \\n\" % (epoch+1, score))\n",
        "\n",
        "def make_plot(loss, val_loss, acc, val_acc):\n",
        "    t = np.arange(1,len(loss)+1,1)\n",
        "\n",
        "    f, (ax1, ax2) = plt.subplots(1, 2, figsize=(15,3))\n",
        "    plt.subplots_adjust(wspace=0.2)\n",
        "\n",
        "    ax1.plot(t, loss)\n",
        "    ax1.plot(t, val_loss)\n",
        "    ax1.set_xlabel('epoch')\n",
        "    ax1.set_ylabel('loss')\n",
        "    ax1.set_title('Train vs Val loss')\n",
        "    ax1.legend(['train','val'], ncol=2, loc='upper right')\n",
        "\n",
        "    ax2.plot(t, acc)\n",
        "    ax2.plot(t, val_acc)\n",
        "    ax2.set_xlabel('epoch')\n",
        "    ax2.set_ylabel('acc')\n",
        "    ax2.set_title('Train vs Val acc')\n",
        "    ax2.legend(['train','val'], ncol=2, loc='upper right')\n",
        "\n",
        "    plt.show();\n",
        "\n",
        "def rgb_to_hex(rgb):\n",
        "    return '#%02x%02x%02x' % rgb\n",
        "    \n",
        "def attention2color(attention_score):\n",
        "    r = 255 - int(attention_score * 255)\n",
        "    color = rgb_to_hex((255, r, r))\n",
        "    return str(color)\n",
        "\n",
        "def visualize_attention():\n",
        "    # Make new model for output predictions and attentions\n",
        "    model_att = Model(inputs=model.input, \\\n",
        "                            outputs=[model.output, model.get_layer('attention_vec').output])\n",
        "    idx = np.random.randint(low = 0, high=X_te.shape[0]) # Get a random test\n",
        "    tokenized_sample = np.trim_zeros(X_te[idx]) # Get the tokenized text\n",
        "    label_probs, attentions = model_att.predict(X_te[idx:idx+1]) # Perform the prediction\n",
        "\n",
        "    # Get decoded text and labels\n",
        "    id2word = dict(map(reversed, tokenizer.word_index.items()))\n",
        "    decoded_text = [id2word[word] for word in tokenized_sample] \n",
        "    \n",
        "    # Get classification\n",
        "    label = np.argmax((label_probs>0.5).astype(int).squeeze()) # Only one\n",
        "    label2id = ['Real', 'Fake']\n",
        "\n",
        "    # Get word attentions using attenion vector\n",
        "    token_attention_dic = {}\n",
        "    max_score = 0.0\n",
        "    min_score = 0.0\n",
        "    for token, attention_score in zip(decoded_text, attentions[0][-len(tokenized_sample):]):\n",
        "        token_attention_dic[token] = attention_score\n",
        "        \n",
        "\n",
        "    # Build HTML String to viualize attentions\n",
        "    html_text = \"<hr><p style='font-size: large'><b>Text:  </b>\"\n",
        "    for token, attention in token_attention_dic.items():\n",
        "        html_text += \"<span style='background-color:{};'>{} <span> \".format(attention2color(attention),\n",
        "                                                                            token)\n",
        "    #html_text += \"</p><br>\"\n",
        "    #html_text += \"<p style='font-size: large'><b>Classified as:</b> \"\n",
        "    #html_text += label2id[label] \n",
        "    #html_text += \"</p>\"\n",
        "    \n",
        "    # Display text enriched with attention scores \n",
        "    display(HTML(html_text))\n",
        "    \n",
        "    # PLOT EMOTION SCORES\n",
        "    \n",
        "    _labels = ['Real', 'Fake']\n",
        "    plt.figure(figsize=(5,2))\n",
        "    plt.bar(np.arange(len(_labels)), label_probs.squeeze(), align='center', alpha=0.5, color=['black', 'red', 'green', 'blue', 'cyan', \"purple\"])\n",
        "    plt.xticks(np.arange(len(_labels)), _labels)\n",
        "    plt.ylabel('Scores')\n",
        "    plt.show()\n",
        "    \n",
        "def under_sample(train_df):\n",
        "    # UNDER SAMPLE\n",
        "    insincere = len(train_df[train_df.target == 1])\n",
        "    insincere_indices = train_df[train_df.target == 1].index\n",
        "\n",
        "    sincere_indices = train_df[train_df.target == 0].index\n",
        "    random_indices = np.random.choice(sincere_indices, insincere, replace=False)\n",
        "\n",
        "    under_sample_indices = np.concatenate([insincere_indices,random_indices])\n",
        "    under_sample = train_df.loc[under_sample_indices]\n",
        "    train_df = under_sample.sample(frac=1)\n",
        "    train_df.info()\n",
        "    return train_df\n",
        "\n",
        "def get_coefs(word, *arr): return word, np.asarray(arr, dtype='float32')\n",
        "\n",
        "def get_embeddings_matrix():\n",
        "    embeddings_index = dict(get_coefs(*o.rstrip().rsplit(' ')) for o in open(EMBEDDING_FILE,encoding=\"UTF-8\"))\n",
        "\n",
        "    word_index = tokenizer.word_index\n",
        "    nb_words = min(MAX_FEATURES, len(word_index))\n",
        "    print('nb_words: %d' % nb_words)\n",
        "    embedding_matrix = np.zeros((nb_words, EMB_SIZE))\n",
        "    print('Embedding matrix shape: %d/%d' % (nb_words, EMB_SIZE))\n",
        "    for word, i in word_index.items():\n",
        "        if i >= nb_words: continue\n",
        "        embedding_vector = embeddings_index.get(word)\n",
        "        if embedding_vector is not None: embedding_matrix[i] = embedding_vector\n",
        "    return embedding_matrix\n",
        "\n",
        "def visualize_attention():\n",
        "    # Make new model for output predictions and attentions\n",
        "    '''\n",
        "    model.get_layer('attention_vec').output:\n",
        "    attention_vec (Attention)    [(None, 128), (None, 54)] <- We want (None,54) that is the word att\n",
        "    '''\n",
        "    model_att = Model(inputs=model.input, \\\n",
        "                            outputs=[model.output, model.get_layer('attention_vec').output[-1]])\n",
        "    idx = np.random.randint(low = 0, high=X_te.shape[0]) # Get a random test\n",
        "    tokenized_sample = np.trim_zeros(X_te[idx]) # Get the tokenized text\n",
        "    label_probs, attentions = model_att.predict(X_te[idx:idx+1]) # Perform the prediction\n",
        "\n",
        "    # Get decoded text and labels\n",
        "    id2word = dict(map(reversed, tokenizer.word_index.items()))\n",
        "    decoded_text = [id2word[word] for word in tokenized_sample] \n",
        "    \n",
        "    # Get classification\n",
        "    label = (label_probs>0.5).astype(int).squeeze() # Only one\n",
        "    label2id = ['Real', 'Fake']\n",
        "\n",
        "    # Get word attentions using attenion vector\n",
        "    token_attention_dic = {}\n",
        "    max_score = 0.0\n",
        "    min_score = 0.0\n",
        "    \n",
        "    attentions_text = attentions[0,-len(tokenized_sample):]\n",
        "    #plt.bar(np.arange(0,len(attentions.squeeze())), attentions.squeeze())\n",
        "    #plt.show();\n",
        "    #print(attentions_text)\n",
        "    attentions_text = (attentions_text - np.min(attentions_text)) / (np.max(attentions_text) - np.min(attentions_text))\n",
        "    for token, attention_score in zip(decoded_text, attentions_text):\n",
        "        #print(token, attention_score)\n",
        "        token_attention_dic[token] = attention_score\n",
        "        \n",
        "\n",
        "    # Build HTML String to viualize attentions\n",
        "    html_text = \"<hr><p style='font-size: large'><b>Text:  </b>\"\n",
        "    for token, attention in token_attention_dic.items():\n",
        "        html_text += \"<span style='background-color:{};'>{} <span> \".format(attention2color(attention),\n",
        "                                                                            token)\n",
        "    #html_text += \"</p><br>\"\n",
        "    #html_text += \"<p style='font-size: large'><b>Classified as:</b> \"\n",
        "    #html_text += label2id[label] \n",
        "    #html_text += \"</p>\"\n",
        "    \n",
        "    # Display text enriched with attention scores \n",
        "    display(HTML(html_text))\n",
        "    \n",
        "    # PLOT EMOTION SCORES\n",
        "    _labels = ['Real', 'Fake']\n",
        "    probs = np.zeros(2)\n",
        "    probs[1] = label_probs\n",
        "    probs[0] = 1- label_probs\n",
        "    plt.figure(figsize=(5,2))\n",
        "    plt.bar(np.arange(len(_labels)), probs.squeeze(), align='center', alpha=0.5, color=['black', 'red', 'green', 'blue', 'cyan', \"purple\"])\n",
        "    plt.xticks(np.arange(len(_labels)), _labels)\n",
        "    plt.ylabel('Scores')\n",
        "    plt.show()"
      ],
      "id": "bVtCnxujwTBA"
    },
    {
      "cell_type": "code",
      "execution_count": null,
      "metadata": {
        "id": "bmhg7mOJwTBF"
      },
      "outputs": [],
      "source": [
        "# Util classes\n",
        "class Attention(Layer):\n",
        "      \n",
        "    def __init__(self,\n",
        "                W_regularizer=None, b_regularizer=None,\n",
        "                 W_constraint=None, b_constraint=None,\n",
        "                 bias=True, return_attention=False,\n",
        "                 **kwargs):\n",
        "        self.supports_masking = True\n",
        "        self.return_attention = return_attention\n",
        "        self.init = initializers.get('glorot_uniform')\n",
        "\n",
        "        self.W_regularizer = regularizers.get(W_regularizer)\n",
        "        self.b_regularizer = regularizers.get(b_regularizer)\n",
        "\n",
        "        self.W_constraint = constraints.get(W_constraint)\n",
        "        self.b_constraint = constraints.get(b_constraint)\n",
        "\n",
        "        self.bias = bias\n",
        "        super(Attention, self).__init__(**kwargs)\n",
        "\n",
        "\n",
        "    def build(self, input_shape):\n",
        "        assert len(input_shape) == 3\n",
        "\n",
        "        self.W = self.add_weight(shape=(input_shape[-1],),\n",
        "                                 initializer=self.init,\n",
        "                                 name='{}_W'.format(self.name),\n",
        "                                 regularizer=self.W_regularizer,\n",
        "                                 constraint=self.W_constraint)\n",
        "        if self.bias:\n",
        "            self.b = self.add_weight(shape=(input_shape[1],),\n",
        "                                     initializer='zero',\n",
        "                                     name='{}_b'.format(self.name),\n",
        "                                     regularizer=self.b_regularizer,\n",
        "                                     constraint=self.b_constraint)\n",
        "        else:\n",
        "            self.b = None\n",
        "\n",
        "        self.built = True\n",
        "\n",
        "    def compute_mask(self, input, input_mask=None):\n",
        "        # do not pass the mask to the next layers\n",
        "        return None\n",
        "\n",
        "    def call(self, x, mask=None):\n",
        "        eij = K.squeeze(K.dot(x, K.expand_dims(self.W)), axis=-1)\n",
        "\n",
        "        if self.bias:\n",
        "            eij += self.b\n",
        "\n",
        "        eij = K.tanh(eij)\n",
        "\n",
        "        a = K.exp(eij)\n",
        "\n",
        "        # apply mask after the exp. will be re-normalized next\n",
        "        if mask is not None:\n",
        "            # Cast the mask to floatX to avoid float64 upcasting in theano\n",
        "            a *= K.cast(mask, K.floatx())\n",
        "\n",
        "        # in some cases especially in the early stages of training the sum may be almost zero\n",
        "        # and this results in NaN's. A workaround is to add a very small positive number ε to the sum.\n",
        "        # a /= K.cast(K.sum(a, axis=1, keepdims=True), K.floatx())\n",
        "        a /= K.cast(K.sum(a, axis=1, keepdims=True) + K.epsilon(), K.floatx())\n",
        "\n",
        "        weighted_input = x * K.expand_dims(a)\n",
        "\n",
        "        result = K.sum(weighted_input, axis=1)\n",
        "\n",
        "        if self.return_attention:\n",
        "            return [result, a]\n",
        "        return result\n",
        "\n",
        "    def compute_output_shape(self, input_shape):\n",
        "        if self.return_attention:\n",
        "            return [(input_shape[0], input_shape[-1]),\n",
        "                    (input_shape[0], input_shape[1])]\n",
        "        else:\n",
        "            return input_shape[0], input_shape[-1]"
      ],
      "id": "bmhg7mOJwTBF"
    },
    {
      "cell_type": "code",
      "execution_count": null,
      "metadata": {
        "id": "UEgmgD9kwTBH"
      },
      "outputs": [],
      "source": [
        "# use the first 2 lines of the file to detect separator\n",
        "#temp_lines = csv_file.readline() + '\\n' + csv_file.readline()\n",
        "#dialect = csv.Sniffer().sniff(temp_lines, delimiters=';,')\n",
        "\n",
        "# remember to go back to the start of the file for the next time it's read\n",
        "#csv_file.seek(0) \n",
        "\n",
        "#df = pd.read_csv(csv_file, sep=dialect.delimiter)"
      ],
      "id": "UEgmgD9kwTBH"
    },
    {
      "cell_type": "code",
      "execution_count": null,
      "metadata": {
        "id": "0ZgKPK_ywTBI"
      },
      "outputs": [],
      "source": [
        "# Load data and split train/test\n",
        "train_df = pd.read_csv(\"/content/drive/MyDrive/Thesis/Data/Filled Datasets/Second dataset (Kaggle)/Preprocessed/combined_train_val.csv\")\n",
        "test_df = pd.read_excel(\"/content/drive/MyDrive/Thesis/Data/Filled Datasets/Second dataset (Kaggle)/Preprocessed/Constraint_Test_fullprep_with_labels.xlsx\")\n",
        "#train_df, test_df = train_test_split(data, test_size=0.33,random_state = 2022)\n",
        "train_df, val_df = train_test_split(train_df, test_size=0.05,random_state = 2022)"
      ],
      "id": "0ZgKPK_ywTBI"
    },
    {
      "cell_type": "code",
      "execution_count": null,
      "metadata": {
        "id": "NY5RIRF-wTBI"
      },
      "outputs": [],
      "source": [
        "# RandomOverSampler\n",
        "from imblearn.over_sampling import RandomOverSampler\n",
        "\n",
        "ros = RandomOverSampler(random_state=47)\n",
        "\n",
        "# fit predictor and target variable\n",
        "train_df, label_train = ros.fit_resample(train_df,train_df[\"label\"])\n",
        "val_df, label_val = ros.fit_resample(val_df,val_df[\"label\"])\n",
        "\n",
        "#text = pd.DataFrame(data_os[\"text\"])\n",
        "#label_os = pd.DataFrame(label_os)"
      ],
      "id": "NY5RIRF-wTBI"
    },
    {
      "cell_type": "code",
      "source": [
        "train_df = train_df.rename(columns={\"tweet\": \"text\"})\n",
        "test_df = test_df.rename(columns={\"tweet\": \"text\"})\n",
        "val_df = val_df.rename(columns={\"tweet\": \"text\"})"
      ],
      "metadata": {
        "id": "IkrNUebVfupK"
      },
      "id": "IkrNUebVfupK",
      "execution_count": null,
      "outputs": []
    },
    {
      "cell_type": "code",
      "source": [
        "test_df"
      ],
      "metadata": {
        "id": "-K6J_r2GUrmZ",
        "colab": {
          "base_uri": "https://localhost:8080/",
          "height": 424
        },
        "outputId": "069d9713-1848-40c4-ceae-0031c8023dda"
      },
      "id": "-K6J_r2GUrmZ",
      "execution_count": null,
      "outputs": [
        {
          "output_type": "execute_result",
          "data": {
            "text/plain": [
              "        id                                               text  label\n",
              "0        1  daily update published states reported k tests...      0\n",
              "1        2                                 alfalfa cure covid      1\n",
              "2        3      president trump asked would catch coronavirus      1\n",
              "3        4  states reported deaths still seeing solid nati...      0\n",
              "4        5  sixth time global health emergency declared in...      0\n",
              "...    ...                                                ...    ...\n",
              "2134  2136  state wise details total confirmed cases till ...      0\n",
              "2135  2137  tonight midnight onwards disaster management a...      1\n",
              "2136  2138  new cases plateau enough yo lagos rivers ft fa...      0\n",
              "2137  2139  one stop shop resources section communicating ...      0\n",
              "2138  2140  half pregnant women recently admitted uk hospi...      0\n",
              "\n",
              "[2139 rows x 3 columns]"
            ],
            "text/html": [
              "\n",
              "  <div id=\"df-71ca2175-3f5b-491f-a54f-dac0e60e40e1\">\n",
              "    <div class=\"colab-df-container\">\n",
              "      <div>\n",
              "<style scoped>\n",
              "    .dataframe tbody tr th:only-of-type {\n",
              "        vertical-align: middle;\n",
              "    }\n",
              "\n",
              "    .dataframe tbody tr th {\n",
              "        vertical-align: top;\n",
              "    }\n",
              "\n",
              "    .dataframe thead th {\n",
              "        text-align: right;\n",
              "    }\n",
              "</style>\n",
              "<table border=\"1\" class=\"dataframe\">\n",
              "  <thead>\n",
              "    <tr style=\"text-align: right;\">\n",
              "      <th></th>\n",
              "      <th>id</th>\n",
              "      <th>text</th>\n",
              "      <th>label</th>\n",
              "    </tr>\n",
              "  </thead>\n",
              "  <tbody>\n",
              "    <tr>\n",
              "      <th>0</th>\n",
              "      <td>1</td>\n",
              "      <td>daily update published states reported k tests...</td>\n",
              "      <td>0</td>\n",
              "    </tr>\n",
              "    <tr>\n",
              "      <th>1</th>\n",
              "      <td>2</td>\n",
              "      <td>alfalfa cure covid</td>\n",
              "      <td>1</td>\n",
              "    </tr>\n",
              "    <tr>\n",
              "      <th>2</th>\n",
              "      <td>3</td>\n",
              "      <td>president trump asked would catch coronavirus</td>\n",
              "      <td>1</td>\n",
              "    </tr>\n",
              "    <tr>\n",
              "      <th>3</th>\n",
              "      <td>4</td>\n",
              "      <td>states reported deaths still seeing solid nati...</td>\n",
              "      <td>0</td>\n",
              "    </tr>\n",
              "    <tr>\n",
              "      <th>4</th>\n",
              "      <td>5</td>\n",
              "      <td>sixth time global health emergency declared in...</td>\n",
              "      <td>0</td>\n",
              "    </tr>\n",
              "    <tr>\n",
              "      <th>...</th>\n",
              "      <td>...</td>\n",
              "      <td>...</td>\n",
              "      <td>...</td>\n",
              "    </tr>\n",
              "    <tr>\n",
              "      <th>2134</th>\n",
              "      <td>2136</td>\n",
              "      <td>state wise details total confirmed cases till ...</td>\n",
              "      <td>0</td>\n",
              "    </tr>\n",
              "    <tr>\n",
              "      <th>2135</th>\n",
              "      <td>2137</td>\n",
              "      <td>tonight midnight onwards disaster management a...</td>\n",
              "      <td>1</td>\n",
              "    </tr>\n",
              "    <tr>\n",
              "      <th>2136</th>\n",
              "      <td>2138</td>\n",
              "      <td>new cases plateau enough yo lagos rivers ft fa...</td>\n",
              "      <td>0</td>\n",
              "    </tr>\n",
              "    <tr>\n",
              "      <th>2137</th>\n",
              "      <td>2139</td>\n",
              "      <td>one stop shop resources section communicating ...</td>\n",
              "      <td>0</td>\n",
              "    </tr>\n",
              "    <tr>\n",
              "      <th>2138</th>\n",
              "      <td>2140</td>\n",
              "      <td>half pregnant women recently admitted uk hospi...</td>\n",
              "      <td>0</td>\n",
              "    </tr>\n",
              "  </tbody>\n",
              "</table>\n",
              "<p>2139 rows × 3 columns</p>\n",
              "</div>\n",
              "      <button class=\"colab-df-convert\" onclick=\"convertToInteractive('df-71ca2175-3f5b-491f-a54f-dac0e60e40e1')\"\n",
              "              title=\"Convert this dataframe to an interactive table.\"\n",
              "              style=\"display:none;\">\n",
              "        \n",
              "  <svg xmlns=\"http://www.w3.org/2000/svg\" height=\"24px\"viewBox=\"0 0 24 24\"\n",
              "       width=\"24px\">\n",
              "    <path d=\"M0 0h24v24H0V0z\" fill=\"none\"/>\n",
              "    <path d=\"M18.56 5.44l.94 2.06.94-2.06 2.06-.94-2.06-.94-.94-2.06-.94 2.06-2.06.94zm-11 1L8.5 8.5l.94-2.06 2.06-.94-2.06-.94L8.5 2.5l-.94 2.06-2.06.94zm10 10l.94 2.06.94-2.06 2.06-.94-2.06-.94-.94-2.06-.94 2.06-2.06.94z\"/><path d=\"M17.41 7.96l-1.37-1.37c-.4-.4-.92-.59-1.43-.59-.52 0-1.04.2-1.43.59L10.3 9.45l-7.72 7.72c-.78.78-.78 2.05 0 2.83L4 21.41c.39.39.9.59 1.41.59.51 0 1.02-.2 1.41-.59l7.78-7.78 2.81-2.81c.8-.78.8-2.07 0-2.86zM5.41 20L4 18.59l7.72-7.72 1.47 1.35L5.41 20z\"/>\n",
              "  </svg>\n",
              "      </button>\n",
              "      \n",
              "  <style>\n",
              "    .colab-df-container {\n",
              "      display:flex;\n",
              "      flex-wrap:wrap;\n",
              "      gap: 12px;\n",
              "    }\n",
              "\n",
              "    .colab-df-convert {\n",
              "      background-color: #E8F0FE;\n",
              "      border: none;\n",
              "      border-radius: 50%;\n",
              "      cursor: pointer;\n",
              "      display: none;\n",
              "      fill: #1967D2;\n",
              "      height: 32px;\n",
              "      padding: 0 0 0 0;\n",
              "      width: 32px;\n",
              "    }\n",
              "\n",
              "    .colab-df-convert:hover {\n",
              "      background-color: #E2EBFA;\n",
              "      box-shadow: 0px 1px 2px rgba(60, 64, 67, 0.3), 0px 1px 3px 1px rgba(60, 64, 67, 0.15);\n",
              "      fill: #174EA6;\n",
              "    }\n",
              "\n",
              "    [theme=dark] .colab-df-convert {\n",
              "      background-color: #3B4455;\n",
              "      fill: #D2E3FC;\n",
              "    }\n",
              "\n",
              "    [theme=dark] .colab-df-convert:hover {\n",
              "      background-color: #434B5C;\n",
              "      box-shadow: 0px 1px 3px 1px rgba(0, 0, 0, 0.15);\n",
              "      filter: drop-shadow(0px 1px 2px rgba(0, 0, 0, 0.3));\n",
              "      fill: #FFFFFF;\n",
              "    }\n",
              "  </style>\n",
              "\n",
              "      <script>\n",
              "        const buttonEl =\n",
              "          document.querySelector('#df-71ca2175-3f5b-491f-a54f-dac0e60e40e1 button.colab-df-convert');\n",
              "        buttonEl.style.display =\n",
              "          google.colab.kernel.accessAllowed ? 'block' : 'none';\n",
              "\n",
              "        async function convertToInteractive(key) {\n",
              "          const element = document.querySelector('#df-71ca2175-3f5b-491f-a54f-dac0e60e40e1');\n",
              "          const dataTable =\n",
              "            await google.colab.kernel.invokeFunction('convertToInteractive',\n",
              "                                                     [key], {});\n",
              "          if (!dataTable) return;\n",
              "\n",
              "          const docLinkHtml = 'Like what you see? Visit the ' +\n",
              "            '<a target=\"_blank\" href=https://colab.research.google.com/notebooks/data_table.ipynb>data table notebook</a>'\n",
              "            + ' to learn more about interactive tables.';\n",
              "          element.innerHTML = '';\n",
              "          dataTable['output_type'] = 'display_data';\n",
              "          await google.colab.output.renderOutput(dataTable, element);\n",
              "          const docLink = document.createElement('div');\n",
              "          docLink.innerHTML = docLinkHtml;\n",
              "          element.appendChild(docLink);\n",
              "        }\n",
              "      </script>\n",
              "    </div>\n",
              "  </div>\n",
              "  "
            ]
          },
          "metadata": {},
          "execution_count": 9
        }
      ]
    },
    {
      "cell_type": "code",
      "execution_count": null,
      "metadata": {
        "id": "0FD76e5nwTBJ"
      },
      "outputs": [],
      "source": [
        "## some config values \n",
        "embed_size = 100 # how big is each word vector\n",
        "max_features = 50000 # how many unique words to use (i.e num rows in embedding vector)\n",
        "maxlen = 300 # max number of words in a question to use\n",
        "\n",
        "X_tra = train_df[\"text\"].fillna(\"_na_\").values\n",
        "X_val = val_df[\"text\"].fillna(\"_na_\").values\n",
        "X_te = test_df[\"text\"].fillna(\"_na_\").values\n",
        "\n",
        "## Tokenize the sentences\n",
        "tokenizer = Tokenizer(num_words=MAX_FEATURES)\n",
        "tokenizer.fit_on_texts(list(X_tra))\n",
        "X_tra = tokenizer.texts_to_sequences(X_tra)\n",
        "X_val = tokenizer.texts_to_sequences(X_val)\n",
        "X_te = tokenizer.texts_to_sequences(X_te)\n",
        "\n",
        "## Pad the sentences \n",
        "MAX_LEN = min(MAX_LEN, len(max(X_tra, key=len)))\n",
        "X_tra = pad_sequences(X_tra, maxlen=MAX_LEN)\n",
        "X_val = pad_sequences(X_val, maxlen=MAX_LEN)\n",
        "X_te = pad_sequences(X_te, maxlen=MAX_LEN)\n",
        "\n",
        "## Get the target values\n",
        "Y_tra = label_train\n",
        "Y_val = label_val\n",
        "Y_te = test_df[\"label\"].fillna(\"_na_\").values"
      ],
      "id": "0FD76e5nwTBJ"
    },
    {
      "cell_type": "code",
      "execution_count": null,
      "metadata": {
        "colab": {
          "base_uri": "https://localhost:8080/"
        },
        "id": "s0ormOyowTBK",
        "outputId": "7864213b-e8c9-48b6-8e8a-896616cbd372"
      },
      "outputs": [
        {
          "output_type": "stream",
          "name": "stdout",
          "text": [
            "nb_words: 11147\n",
            "Embedding matrix shape: 11147/100\n"
          ]
        }
      ],
      "source": [
        "embedding_matrix = get_embeddings_matrix()"
      ],
      "id": "s0ormOyowTBK"
    },
    {
      "cell_type": "code",
      "source": [
        "X_tra.shape[1]"
      ],
      "metadata": {
        "colab": {
          "base_uri": "https://localhost:8080/"
        },
        "id": "HPJourSN8Bzg",
        "outputId": "71e93dac-32fe-45f0-98bd-fc63051fb0e0"
      },
      "id": "HPJourSN8Bzg",
      "execution_count": null,
      "outputs": [
        {
          "output_type": "execute_result",
          "data": {
            "text/plain": [
              "100"
            ]
          },
          "metadata": {},
          "execution_count": 12
        }
      ]
    },
    {
      "cell_type": "code",
      "execution_count": null,
      "metadata": {
        "id": "_u9ABBvuwTBL",
        "colab": {
          "base_uri": "https://localhost:8080/"
        },
        "outputId": "b4b4b660-e0af-4bae-d8fc-4d0cdec7e5b9"
      },
      "outputs": [
        {
          "output_type": "stream",
          "name": "stdout",
          "text": [
            "Model: \"model\"\n",
            "_________________________________________________________________\n",
            " Layer (type)                Output Shape              Param #   \n",
            "=================================================================\n",
            " input_1 (InputLayer)        [(None, 100)]             0         \n",
            "                                                                 \n",
            " embedding (Embedding)       (None, 100, 100)          1114700   \n",
            "                                                                 \n",
            " spatial_dropout1d (SpatialD  (None, 100, 100)         0         \n",
            " ropout1D)                                                       \n",
            "                                                                 \n",
            " bidirectional (Bidirectiona  (None, 100, 128)         63744     \n",
            " l)                                                              \n",
            "                                                                 \n",
            " dropout (Dropout)           (None, 100, 128)          0         \n",
            "                                                                 \n",
            " attention_vec (Attention)   [(None, 128),             228       \n",
            "                              (None, 100)]                       \n",
            "                                                                 \n",
            " dense (Dense)               (None, 64)                8256      \n",
            "                                                                 \n",
            " dropout_1 (Dropout)         (None, 64)                0         \n",
            "                                                                 \n",
            " dense_1 (Dense)             (None, 1)                 65        \n",
            "                                                                 \n",
            "=================================================================\n",
            "Total params: 1,186,993\n",
            "Trainable params: 72,293\n",
            "Non-trainable params: 1,114,700\n",
            "_________________________________________________________________\n"
          ]
        }
      ],
      "source": [
        "# Define input tensor\n",
        "inp = Input(shape=(X_tra.shape[1],), dtype='int32')\n",
        "\n",
        "# Word embedding layer\n",
        "embedded_inputs = Embedding(embedding_matrix.shape[0], embedding_matrix.shape[1], \n",
        "                            weights=[embedding_matrix], trainable = False)(inp)\n",
        "\n",
        "# Apply dropout to prevent overfitting\n",
        "embedded_inputs = SpatialDropout1D(0.2)(embedded_inputs)\n",
        "\n",
        "# Apply Bidirectional GRU over embedded inputs\n",
        "rnn_outs = Bidirectional(\\\n",
        "                CuDNNGRU(64, return_sequences=True))(embedded_inputs)\n",
        "rnn_outs = Dropout(0.2)(rnn_outs) # Apply dropout to GRU outputs to prevent overfitting\n",
        "\n",
        "# Attention Mechanism - Generate attention vectors\n",
        "sentence, word_scores = Attention(return_attention=True, name = \"attention_vec\")(rnn_outs)\n",
        "\n",
        "# Dense layers\n",
        "fc = Dense(64, activation='relu')(sentence)\n",
        "fc = Dropout(0.5)(fc)\n",
        "output = Dense(1, activation='sigmoid')(fc)\n",
        "\n",
        "# Finally building model\n",
        "model = Model(inputs=inp, outputs=output)\n",
        "model.compile(loss='binary_crossentropy', metrics=[\"accuracy\"], optimizer='adam')\n",
        "\n",
        "# Print model summary\n",
        "model.summary()"
      ],
      "id": "_u9ABBvuwTBL"
    },
    {
      "cell_type": "code",
      "execution_count": null,
      "metadata": {
        "id": "ACQ1YmmWwTBM",
        "colab": {
          "base_uri": "https://localhost:8080/"
        },
        "outputId": "1a06cf69-56ba-4f91-eada-9a2874bf8218"
      },
      "outputs": [
        {
          "output_type": "stream",
          "name": "stdout",
          "text": [
            "Epoch 1/15\n",
            "17/17 [==============================] - ETA: 0s - loss: 0.6612 - accuracy: 0.5816\n",
            " F1 Score - epoch: 1 - score: 0.748879 \n",
            "\n",
            "17/17 [==============================] - 9s 85ms/step - loss: 0.6612 - accuracy: 0.5816 - val_loss: 0.5941 - val_accuracy: 0.7287\n",
            "Epoch 2/15\n",
            "15/17 [=========================>....] - ETA: 0s - loss: 0.5327 - accuracy: 0.7822\n",
            " F1 Score - epoch: 2 - score: 0.802691 \n",
            "\n",
            "17/17 [==============================] - 1s 30ms/step - loss: 0.5249 - accuracy: 0.7842 - val_loss: 0.4410 - val_accuracy: 0.7937\n",
            "Epoch 3/15\n",
            "16/17 [===========================>..] - ETA: 0s - loss: 0.4045 - accuracy: 0.8296\n",
            " F1 Score - epoch: 3 - score: 0.838565 \n",
            "\n",
            "17/17 [==============================] - 0s 30ms/step - loss: 0.4065 - accuracy: 0.8286 - val_loss: 0.3650 - val_accuracy: 0.8318\n",
            "Epoch 4/15\n",
            "16/17 [===========================>..] - ETA: 0s - loss: 0.3630 - accuracy: 0.8541\n",
            " F1 Score - epoch: 4 - score: 0.849776 \n",
            "\n",
            "17/17 [==============================] - 0s 29ms/step - loss: 0.3619 - accuracy: 0.8545 - val_loss: 0.3536 - val_accuracy: 0.8632\n",
            "Epoch 5/15\n",
            "16/17 [===========================>..] - ETA: 0s - loss: 0.3440 - accuracy: 0.8584\n",
            " F1 Score - epoch: 5 - score: 0.865471 \n",
            "\n",
            "17/17 [==============================] - 0s 29ms/step - loss: 0.3422 - accuracy: 0.8588 - val_loss: 0.3051 - val_accuracy: 0.8610\n",
            "Epoch 6/15\n",
            "16/17 [===========================>..] - ETA: 0s - loss: 0.3284 - accuracy: 0.8662\n",
            " F1 Score - epoch: 6 - score: 0.876682 \n",
            "\n",
            "17/17 [==============================] - 0s 29ms/step - loss: 0.3290 - accuracy: 0.8655 - val_loss: 0.3020 - val_accuracy: 0.8700\n",
            "Epoch 7/15\n",
            "16/17 [===========================>..] - ETA: 0s - loss: 0.3090 - accuracy: 0.8748\n",
            " F1 Score - epoch: 7 - score: 0.887892 \n",
            "\n",
            "17/17 [==============================] - 0s 29ms/step - loss: 0.3096 - accuracy: 0.8748 - val_loss: 0.2843 - val_accuracy: 0.8744\n",
            "Epoch 8/15\n",
            "16/17 [===========================>..] - ETA: 0s - loss: 0.3006 - accuracy: 0.8820\n",
            " F1 Score - epoch: 8 - score: 0.887892 \n",
            "\n",
            "17/17 [==============================] - 0s 30ms/step - loss: 0.3010 - accuracy: 0.8820 - val_loss: 0.2673 - val_accuracy: 0.8857\n",
            "Epoch 9/15\n",
            "16/17 [===========================>..] - ETA: 0s - loss: 0.2858 - accuracy: 0.8840\n",
            " F1 Score - epoch: 9 - score: 0.894619 \n",
            "\n",
            "17/17 [==============================] - 0s 29ms/step - loss: 0.2849 - accuracy: 0.8845 - val_loss: 0.2547 - val_accuracy: 0.8901\n",
            "Epoch 10/15\n",
            "16/17 [===========================>..] - ETA: 0s - loss: 0.2807 - accuracy: 0.8860\n",
            " F1 Score - epoch: 10 - score: 0.890135 \n",
            "\n",
            "17/17 [==============================] - 0s 29ms/step - loss: 0.2803 - accuracy: 0.8862 - val_loss: 0.2450 - val_accuracy: 0.8969\n",
            "Epoch 11/15\n",
            "16/17 [===========================>..] - ETA: 0s - loss: 0.2629 - accuracy: 0.8948\n",
            " F1 Score - epoch: 11 - score: 0.890135 \n",
            "\n",
            "17/17 [==============================] - 0s 30ms/step - loss: 0.2618 - accuracy: 0.8955 - val_loss: 0.2328 - val_accuracy: 0.8946\n",
            "Epoch 12/15\n",
            "15/17 [=========================>....] - ETA: 0s - loss: 0.2525 - accuracy: 0.8983\n",
            " F1 Score - epoch: 12 - score: 0.892377 \n",
            "\n",
            "17/17 [==============================] - 1s 30ms/step - loss: 0.2545 - accuracy: 0.8973 - val_loss: 0.2407 - val_accuracy: 0.8991\n",
            "Epoch 13/15\n",
            "16/17 [===========================>..] - ETA: 0s - loss: 0.2358 - accuracy: 0.9048\n",
            " F1 Score - epoch: 13 - score: 0.901345 \n",
            "\n",
            "17/17 [==============================] - 0s 29ms/step - loss: 0.2343 - accuracy: 0.9057 - val_loss: 0.2226 - val_accuracy: 0.8969\n",
            "Epoch 14/15\n",
            "16/17 [===========================>..] - ETA: 0s - loss: 0.2250 - accuracy: 0.9119\n",
            " F1 Score - epoch: 14 - score: 0.896861 \n",
            "\n",
            "17/17 [==============================] - 0s 30ms/step - loss: 0.2249 - accuracy: 0.9119 - val_loss: 0.2292 - val_accuracy: 0.8991\n",
            "Epoch 15/15\n",
            "16/17 [===========================>..] - ETA: 0s - loss: 0.2152 - accuracy: 0.9164\n",
            " F1 Score - epoch: 15 - score: 0.896861 \n",
            "\n",
            "17/17 [==============================] - 0s 29ms/step - loss: 0.2145 - accuracy: 0.9170 - val_loss: 0.2116 - val_accuracy: 0.9058\n"
          ]
        }
      ],
      "source": [
        "# Train model\n",
        "F1_Score = F1Evaluation(validation_data=(X_val, Y_val), interval=1)\n",
        "hist = model.fit(X_tra, Y_tra, validation_data=(X_val, Y_val), \n",
        "                 epochs=15, batch_size=512, callbacks=[F1_Score])\n",
        "val_loss = hist.history['val_loss']; val_acc = hist.history['val_accuracy']\n",
        "loss = hist.history['loss'];acc = hist.history['accuracy']\n",
        "#solution to error: conclusion from online research seems to be that i have to switch to GPU in colab.\n",
        "#problem: we don't have a gpu --> solved, we do. Go to 'resources bekijken' --> 'runtimetype wijzigen' --> GPU\n",
        "\n",
        "#have a look at bazel(isk): https://github.com/bazelbuild/bazelisk\n",
        "#and the compatibilities: https://www.tensorflow.org/install/source_windows"
      ],
      "id": "ACQ1YmmWwTBM"
    },
    {
      "cell_type": "code",
      "execution_count": null,
      "metadata": {
        "colab": {
          "base_uri": "https://localhost:8080/",
          "height": 246
        },
        "id": "2f34oTXOwTBM",
        "outputId": "1f107600-6059-4a91-c4b2-2027074d8eac"
      },
      "outputs": [
        {
          "output_type": "display_data",
          "data": {
            "text/plain": [
              "<Figure size 1080x216 with 2 Axes>"
            ],
            "image/png": "[encoded data removed]"
          },
          "metadata": {}
        }
      ],
      "source": [
        "make_plot(loss, val_loss, acc, val_acc)\n"
      ],
      "id": "2f34oTXOwTBM"
    },
    {
      "cell_type": "code",
      "execution_count": null,
      "metadata": {
        "colab": {
          "base_uri": "https://localhost:8080/"
        },
        "id": "NZiZBSNIwTBN",
        "outputId": "638d0e29-b3eb-4af1-b0f0-3c884ea0ae42"
      },
      "outputs": [
        {
          "output_type": "stream",
          "name": "stdout",
          "text": [
            "1/1 [==============================] - 0s 230ms/step\n",
            "Validation set: Max F1-Score: 0.91 - reached with threshold: 0.25\n"
          ]
        }
      ],
      "source": [
        "val_pred = model.predict([X_val], batch_size=1024, verbose=1)\n",
        "f1s = []\n",
        "max_thresh, max_f1 = 0, 0\n",
        "for thresh in np.arange(0.1, 0.9, 0.01):\n",
        "    f1s.append(metrics.f1_score(Y_val, (val_pred>thresh)))\n",
        "max_f1 = np.max(f1s)\n",
        "max_thresh = np.arange(0.1, 0.9, 0.01)[np.argmax(f1s)]\n",
        "print('Validation set: Max F1-Score: %.2f - reached with threshold: %.2f' % (max_f1, max_thresh))"
      ],
      "id": "NZiZBSNIwTBN"
    },
    {
      "cell_type": "code",
      "source": [
        "np.unique(val_pred)"
      ],
      "metadata": {
        "id": "8W01ick7JHMd",
        "colab": {
          "base_uri": "https://localhost:8080/"
        },
        "outputId": "26744267-6cf3-4137-fe8d-6fbbbf5f9cbb"
      },
      "id": "8W01ick7JHMd",
      "execution_count": null,
      "outputs": [
        {
          "output_type": "execute_result",
          "data": {
            "text/plain": [
              "array([2.4016290e-04, 2.6095985e-04, 3.1110187e-04, 3.5184156e-04,\n",
              "       4.3328377e-04, 4.9753347e-04, 6.0903351e-04, 6.5497064e-04,\n",
              "       6.6480134e-04, 6.7090045e-04, 7.3773676e-04, 7.4466702e-04,\n",
              "       7.6980772e-04, 7.8559708e-04, 8.2064344e-04, 8.6893886e-04,\n",
              "       8.7629311e-04, 9.2931627e-04, 9.3130977e-04, 9.4033219e-04,\n",
              "       9.8559551e-04, 9.9979795e-04, 1.0533119e-03, 1.1561398e-03,\n",
              "       1.1661663e-03, 1.2039727e-03, 1.3154428e-03, 1.3267713e-03,\n",
              "       1.3579114e-03, 1.4268461e-03, 1.4308133e-03, 1.5428903e-03,\n",
              "       1.6737435e-03, 1.8069184e-03, 1.8790988e-03, 2.0183481e-03,\n",
              "       2.0567155e-03, 2.0741925e-03, 2.1141286e-03, 2.2631600e-03,\n",
              "       2.3223227e-03, 2.4172764e-03, 2.4616637e-03, 2.4853095e-03,\n",
              "       2.6042440e-03, 2.6175741e-03, 2.6981630e-03, 2.7306355e-03,\n",
              "       2.8238168e-03, 3.3105214e-03, 3.3894819e-03, 3.4100863e-03,\n",
              "       3.4364788e-03, 3.5553561e-03, 3.6707332e-03, 3.8710509e-03,\n",
              "       3.9306064e-03, 3.9951554e-03, 4.0523205e-03, 4.1025039e-03,\n",
              "       4.1843634e-03, 4.5307856e-03, 4.5558629e-03, 4.5808493e-03,\n",
              "       4.7903587e-03, 4.8367926e-03, 4.9803057e-03, 5.0513893e-03,\n",
              "       5.1443968e-03, 5.1527862e-03, 5.2475836e-03, 5.3092325e-03,\n",
              "       5.6858747e-03, 5.8208453e-03, 5.8702310e-03, 6.0731806e-03,\n",
              "       6.3130092e-03, 6.3858521e-03, 6.3984836e-03, 6.4962879e-03,\n",
              "       7.0318901e-03, 7.1790023e-03, 7.2094472e-03, 7.2993636e-03,\n",
              "       7.3128650e-03, 7.3773433e-03, 7.5985920e-03, 7.6363827e-03,\n",
              "       8.3154757e-03, 8.3314944e-03, 8.4268600e-03, 8.7038148e-03,\n",
              "       8.9156600e-03, 9.0511786e-03, 9.1331080e-03, 9.1408873e-03,\n",
              "       9.1814520e-03, 9.2488201e-03, 9.7823562e-03, 9.9758105e-03,\n",
              "       1.0687842e-02, 1.0829477e-02, 1.0973128e-02, 1.2485607e-02,\n",
              "       1.2766410e-02, 1.2933383e-02, 1.3128659e-02, 1.3277180e-02,\n",
              "       1.3350078e-02, 1.3371078e-02, 1.3656872e-02, 1.4322670e-02,\n",
              "       1.4653193e-02, 1.4722859e-02, 1.5347222e-02, 1.5643504e-02,\n",
              "       1.5647704e-02, 1.5654556e-02, 1.5753383e-02, 1.6362185e-02,\n",
              "       1.6723927e-02, 1.6935408e-02, 1.7763568e-02, 1.8677410e-02,\n",
              "       1.8832712e-02, 1.9283073e-02, 1.9484103e-02, 2.0351101e-02,\n",
              "       2.0859623e-02, 2.0919956e-02, 2.0964574e-02, 2.1008646e-02,\n",
              "       2.2049990e-02, 2.2120925e-02, 2.3985658e-02, 2.6911445e-02,\n",
              "       2.8094323e-02, 2.8236829e-02, 3.0162096e-02, 3.1038474e-02,\n",
              "       3.1799257e-02, 3.2009445e-02, 3.2219473e-02, 3.6581431e-02,\n",
              "       3.7326701e-02, 3.7965201e-02, 4.2603116e-02, 4.3662153e-02,\n",
              "       4.4505253e-02, 4.4762246e-02, 4.6943687e-02, 4.7839571e-02,\n",
              "       4.7931742e-02, 4.9156249e-02, 4.9657613e-02, 5.3390399e-02,\n",
              "       5.7186238e-02, 5.9948403e-02, 6.1026834e-02, 6.3259505e-02,\n",
              "       6.7493908e-02, 6.9256149e-02, 7.3849827e-02, 7.5791940e-02,\n",
              "       8.1383578e-02, 8.6016104e-02, 8.7219059e-02, 8.7321378e-02,\n",
              "       8.8261373e-02, 8.9945145e-02, 9.9940784e-02, 1.0895665e-01,\n",
              "       1.1642780e-01, 1.1859584e-01, 1.1989087e-01, 1.2232039e-01,\n",
              "       1.3935934e-01, 1.5280619e-01, 1.5322353e-01, 1.5385348e-01,\n",
              "       1.5709230e-01, 1.6654670e-01, 1.6925202e-01, 1.7257859e-01,\n",
              "       1.7467280e-01, 1.7645197e-01, 1.7763576e-01, 1.8749824e-01,\n",
              "       1.8854290e-01, 2.0172644e-01, 2.2997691e-01, 2.3008487e-01,\n",
              "       2.3458454e-01, 2.3746632e-01, 2.3871279e-01, 2.4432608e-01,\n",
              "       2.6116431e-01, 2.6452819e-01, 2.8146052e-01, 2.8839719e-01,\n",
              "       3.0875808e-01, 3.2250422e-01, 3.2903412e-01, 3.3418298e-01,\n",
              "       3.4202176e-01, 3.4556493e-01, 3.5951215e-01, 3.7845460e-01,\n",
              "       3.9503494e-01, 4.0029961e-01, 4.0076232e-01, 4.0325949e-01,\n",
              "       4.0527463e-01, 4.2735666e-01, 4.3399689e-01, 4.3487310e-01,\n",
              "       4.3662053e-01, 4.4007632e-01, 4.4969505e-01, 4.5951438e-01,\n",
              "       4.7153556e-01, 4.7522655e-01, 4.8228279e-01, 4.9304032e-01,\n",
              "       5.1239967e-01, 5.4078782e-01, 5.5661339e-01, 5.6362665e-01,\n",
              "       5.8038527e-01, 5.8862585e-01, 6.1169869e-01, 6.2442857e-01,\n",
              "       6.4032006e-01, 6.7359096e-01, 6.7675358e-01, 6.8938744e-01,\n",
              "       7.0634854e-01, 7.1565235e-01, 7.2104371e-01, 7.3206383e-01,\n",
              "       7.4132478e-01, 7.4215645e-01, 7.4521786e-01, 7.8006029e-01,\n",
              "       7.8393775e-01, 7.8496170e-01, 7.8567016e-01, 8.1225425e-01,\n",
              "       8.1243062e-01, 8.1667876e-01, 8.2472819e-01, 8.3017725e-01,\n",
              "       8.3477610e-01, 8.3591229e-01, 8.4133548e-01, 8.4194601e-01,\n",
              "       8.5137385e-01, 8.5445035e-01, 8.5778981e-01, 8.6148006e-01,\n",
              "       8.6236101e-01, 8.6373615e-01, 8.6505240e-01, 8.6528873e-01,\n",
              "       8.6598092e-01, 8.6650896e-01, 8.6813265e-01, 8.7157184e-01,\n",
              "       8.7585121e-01, 8.7880999e-01, 8.8360095e-01, 8.8833755e-01,\n",
              "       8.8879234e-01, 8.9099962e-01, 8.9329135e-01, 8.9698267e-01,\n",
              "       8.9808244e-01, 9.0551621e-01, 9.0977609e-01, 9.1122192e-01,\n",
              "       9.1259211e-01, 9.1463649e-01, 9.1465664e-01, 9.1748273e-01,\n",
              "       9.1809136e-01, 9.1851002e-01, 9.1902786e-01, 9.1982186e-01,\n",
              "       9.2396218e-01, 9.2423129e-01, 9.2541885e-01, 9.2693490e-01,\n",
              "       9.2766774e-01, 9.3787521e-01, 9.3989140e-01, 9.4006276e-01,\n",
              "       9.4017571e-01, 9.4054532e-01, 9.4216186e-01, 9.4404638e-01,\n",
              "       9.4797802e-01, 9.4924271e-01, 9.4953668e-01, 9.5188034e-01,\n",
              "       9.5298600e-01, 9.5465922e-01, 9.5488256e-01, 9.5515472e-01,\n",
              "       9.5604694e-01, 9.5740646e-01, 9.5764244e-01, 9.5854557e-01,\n",
              "       9.5864493e-01, 9.5909637e-01, 9.5936543e-01, 9.5972466e-01,\n",
              "       9.6006453e-01, 9.6052974e-01, 9.6160549e-01, 9.6168828e-01,\n",
              "       9.6174401e-01, 9.6176559e-01, 9.6314502e-01, 9.6322930e-01,\n",
              "       9.6396494e-01, 9.6512300e-01, 9.6584088e-01, 9.6663553e-01,\n",
              "       9.6687919e-01, 9.6885645e-01, 9.6934241e-01, 9.6973318e-01,\n",
              "       9.6979976e-01, 9.6994770e-01, 9.7149843e-01, 9.7151303e-01,\n",
              "       9.7156006e-01, 9.7183245e-01, 9.7188133e-01, 9.7274607e-01,\n",
              "       9.7495562e-01, 9.7571123e-01, 9.7626388e-01, 9.7633129e-01,\n",
              "       9.7639096e-01, 9.7652894e-01, 9.7775137e-01, 9.7807795e-01,\n",
              "       9.7816467e-01, 9.7859460e-01, 9.7935027e-01, 9.7936124e-01,\n",
              "       9.8003286e-01, 9.8005360e-01, 9.8121476e-01, 9.8140436e-01,\n",
              "       9.8148912e-01, 9.8191112e-01, 9.8244882e-01, 9.8258692e-01,\n",
              "       9.8360485e-01, 9.8374039e-01, 9.8396021e-01, 9.8396629e-01,\n",
              "       9.8404723e-01, 9.8484635e-01, 9.8509848e-01, 9.8540986e-01,\n",
              "       9.8579979e-01, 9.8638827e-01, 9.8660254e-01, 9.8722953e-01,\n",
              "       9.8759252e-01, 9.8860222e-01, 9.8913991e-01, 9.8946476e-01,\n",
              "       9.8950773e-01, 9.8984081e-01, 9.8984617e-01, 9.8991829e-01,\n",
              "       9.8999560e-01, 9.9000931e-01, 9.9030006e-01, 9.9048829e-01,\n",
              "       9.9054843e-01, 9.9056739e-01, 9.9062461e-01, 9.9085438e-01,\n",
              "       9.9117517e-01, 9.9137688e-01, 9.9150026e-01, 9.9202889e-01,\n",
              "       9.9270868e-01, 9.9304330e-01, 9.9315625e-01, 9.9326986e-01,\n",
              "       9.9327058e-01, 9.9361318e-01, 9.9366957e-01, 9.9398899e-01,\n",
              "       9.9412620e-01, 9.9434727e-01, 9.9436671e-01, 9.9441373e-01,\n",
              "       9.9500602e-01, 9.9573177e-01, 9.9593830e-01, 9.9597400e-01,\n",
              "       9.9603963e-01, 9.9679238e-01, 9.9741650e-01, 9.9753368e-01,\n",
              "       9.9770927e-01, 9.9792922e-01, 9.9805629e-01, 9.9827135e-01,\n",
              "       9.9840975e-01, 9.9890840e-01, 9.9893922e-01, 9.9928015e-01,\n",
              "       9.9954396e-01, 9.9961698e-01, 9.9976009e-01, 9.9976116e-01,\n",
              "       9.9987817e-01], dtype=float32)"
            ]
          },
          "metadata": {},
          "execution_count": 17
        }
      ]
    },
    {
      "cell_type": "code",
      "execution_count": null,
      "metadata": {
        "id": "WYgf970SwTBO",
        "colab": {
          "base_uri": "https://localhost:8080/",
          "height": 1000
        },
        "outputId": "b64c2810-cf1a-49a0-c060-dac8b1af6f5e"
      },
      "outputs": [
        {
          "output_type": "display_data",
          "data": {
            "text/plain": [
              "<IPython.core.display.HTML object>"
            ],
            "text/html": [
              "<hr><p style='font-size: large'><b>Text:  </b><span style='background-color:#ff8080;'>banana <span> <span style='background-color:#ff0b0b;'>contains <span> <span style='background-color:#ff0202;'>election <span> <span style='background-color:#ff0303;'>powerful <span> <span style='background-color:#ff0d0d;'>anti <span> <span style='background-color:#ff1e1e;'>covid <span> <span style='background-color:#ff1515;'>agent <span> <span style='background-color:#ff0808;'>blocking <span> <span style='background-color:#ff0000;'>virus <span> <span style='background-color:#ff0606;'>entering <span> <span style='background-color:#ff1818;'>cell <span> <span style='background-color:#ff8080;'>eating <span> <span style='background-color:#ff2e2e;'>day <span> <span style='background-color:#ff3232;'>recommended <span> "
            ]
          },
          "metadata": {}
        },
        {
          "output_type": "display_data",
          "data": {
            "text/plain": [
              "<Figure size 360x144 with 1 Axes>"
            ],
            "image/png": "[encoded data removed]"
          },
          "metadata": {}
        },
        {
          "output_type": "display_data",
          "data": {
            "text/plain": [
              "<IPython.core.display.HTML object>"
            ],
            "text/html": [
              "<hr><p style='font-size: large'><b>Text:  </b><span style='background-color:#ff0101;'>weekly <span> <span style='background-color:#ff0202;'>update <span> <span style='background-color:#ff0101;'>deaths <span> <span style='background-color:#ff0101;'>registered <span> <span style='background-color:#ff0202;'>england <span> <span style='background-color:#ff0202;'>wales <span> <span style='background-color:#ff0303;'>number <span> <span style='background-color:#ff0202;'>week <span> <span style='background-color:#ff0303;'>ending <span> <span style='background-color:#ff0606;'>june <span> <span style='background-color:#ff0505;'>within <span> <span style='background-color:#ff0a0a;'>range <span> <span style='background-color:#ff1212;'>would <span> <span style='background-color:#ff0a0a;'>expected <span> <span style='background-color:#ff1010;'>based <span> <span style='background-color:#ff1717;'>trend <span> <span style='background-color:#ff1515;'>analysis <span> <span style='background-color:#ff9494;'>past <span> <span style='background-color:#ffffff;'>years <span> "
            ]
          },
          "metadata": {}
        },
        {
          "output_type": "display_data",
          "data": {
            "text/plain": [
              "<Figure size 360x144 with 1 Axes>"
            ],
            "image/png": "[encoded data removed]"
          },
          "metadata": {}
        },
        {
          "output_type": "stream",
          "name": "stdout",
          "text": [
            "WARNING:tensorflow:5 out of the last 214 calls to <function Model.make_predict_function.<locals>.predict_function at 0x7f9f564f9d40> triggered tf.function retracing. Tracing is expensive and the excessive number of tracings could be due to (1) creating @tf.function repeatedly in a loop, (2) passing tensors with different shapes, (3) passing Python objects instead of tensors. For (1), please define your @tf.function outside of the loop. For (2), @tf.function has experimental_relax_shapes=True option that relaxes argument shapes that can avoid unnecessary retracing. For (3), please refer to https://www.tensorflow.org/guide/function#controlling_retracing and https://www.tensorflow.org/api_docs/python/tf/function for  more details.\n"
          ]
        },
        {
          "output_type": "display_data",
          "data": {
            "text/plain": [
              "<IPython.core.display.HTML object>"
            ],
            "text/html": [
              "<hr><p style='font-size: large'><b>Text:  </b><span style='background-color:#ff6464;'>korea <span> <span style='background-color:#ff1717;'>finished <span> <span style='background-color:#ff0000;'>developing <span> <span style='background-color:#ff1414;'>minute <span> <span style='background-color:#ff2121;'>covid <span> <span style='background-color:#ff1212;'>diagnostic <span> <span style='background-color:#ff3d3d;'>kit <span> <span style='background-color:#ff7171;'>camping <span> <span style='background-color:#ff1818;'>production <span> <span style='background-color:#ff1212;'>plan <span> <span style='background-color:#ff0f0f;'>export <span> <span style='background-color:#ff2828;'>test <span> <span style='background-color:#ff4040;'>kits <span> <span style='background-color:#ff4949;'>per <span> <span style='background-color:#ffffff;'>week <span> "
            ]
          },
          "metadata": {}
        },
        {
          "output_type": "display_data",
          "data": {
            "text/plain": [
              "<Figure size 360x144 with 1 Axes>"
            ],
            "image/png": "[encoded data removed]"
          },
          "metadata": {}
        },
        {
          "output_type": "stream",
          "name": "stdout",
          "text": [
            "WARNING:tensorflow:6 out of the last 215 calls to <function Model.make_predict_function.<locals>.predict_function at 0x7f9f564f9dd0> triggered tf.function retracing. Tracing is expensive and the excessive number of tracings could be due to (1) creating @tf.function repeatedly in a loop, (2) passing tensors with different shapes, (3) passing Python objects instead of tensors. For (1), please define your @tf.function outside of the loop. For (2), @tf.function has experimental_relax_shapes=True option that relaxes argument shapes that can avoid unnecessary retracing. For (3), please refer to https://www.tensorflow.org/guide/function#controlling_retracing and https://www.tensorflow.org/api_docs/python/tf/function for  more details.\n"
          ]
        },
        {
          "output_type": "display_data",
          "data": {
            "text/plain": [
              "<IPython.core.display.HTML object>"
            ],
            "text/html": [
              "<hr><p style='font-size: large'><b>Text:  </b><span style='background-color:#ff0202;'>per <span> <span style='background-color:#ff0000;'>tests <span> <span style='background-color:#ff0101;'>conducted <span> <span style='background-color:#ff0c0c;'>journalist <span> <span style='background-color:#ff2d2d;'>crew <span> <span style='background-color:#ff1313;'>attended <span> <span style='background-color:#ff3838;'>late <span> <span style='background-color:#ff2a2a;'>minister <span> <span style='background-color:#ff9e9e;'>thondamans <span> <span style='background-color:#ffffff;'>funeral <span> <span style='background-color:#ffe1e1;'>covid <span> <span style='background-color:#ff3434;'>symptoms <span> "
            ]
          },
          "metadata": {}
        },
        {
          "output_type": "display_data",
          "data": {
            "text/plain": [
              "<Figure size 360x144 with 1 Axes>"
            ],
            "image/png": "[encoded data removed]"
          },
          "metadata": {}
        },
        {
          "output_type": "display_data",
          "data": {
            "text/plain": [
              "<IPython.core.display.HTML object>"
            ],
            "text/html": [
              "<hr><p style='font-size: large'><b>Text:  </b><span style='background-color:#ff1919;'>new <span> <span style='background-color:#ff0000;'>cases <span> <span style='background-color:#ff0909;'>lagos <span> <span style='background-color:#ff0707;'>kan <span> <span style='background-color:#ff0808;'>katrina <span> <span style='background-color:#ff1a1a;'>ft <span> <span style='background-color:#ff2727;'>born <span> <span style='background-color:#ff1111;'>batch <span> <span style='background-color:#ff0a0a;'>nasarawa <span> <span style='background-color:#ff0c0c;'>gun <span> <span style='background-color:#ff1717;'>plateau <span> <span style='background-color:#ffffff;'>yo <span> <span style='background-color:#ff6060;'>sokoto <span> <span style='background-color:#ff8080;'>rivers <span> <span style='background-color:#ff7e7e;'>fauna <span> <span style='background-color:#ff6969;'>edo <span> <span style='background-color:#ff9898;'>ebony <span> <span style='background-color:#ff1010;'>undo <span> <span style='background-color:#ff1313;'>enough <span> <span style='background-color:#ff0b0b;'>imo <span> <span style='background-color:#ff0a0a;'>some <span> <span style='background-color:#ff0f0f;'>sun <span> <span style='background-color:#ff0404;'>nigeria <span> <span style='background-color:#ff0505;'>discharged <span> <span style='background-color:#ff0f0f;'>deaths <span> "
            ]
          },
          "metadata": {}
        },
        {
          "output_type": "display_data",
          "data": {
            "text/plain": [
              "<Figure size 360x144 with 1 Axes>"
            ],
            "image/png": "[encoded data removed]"
          },
          "metadata": {}
        },
        {
          "output_type": "display_data",
          "data": {
            "text/plain": [
              "<IPython.core.display.HTML object>"
            ],
            "text/html": [
              "<hr><p style='font-size: large'><b>Text:  </b><span style='background-color:#ff8181;'>healthy <span> <span style='background-color:#ff2323;'>year <span> <span style='background-color:#ff5b5b;'>old <span> <span style='background-color:#ffffff;'>boy <span> <span style='background-color:#ff1010;'>lost <span> <span style='background-color:#ff3939;'>life <span> <span style='background-color:#ff0000;'>days <span> "
            ]
          },
          "metadata": {}
        },
        {
          "output_type": "display_data",
          "data": {
            "text/plain": [
              "<Figure size 360x144 with 1 Axes>"
            ],
            "image/png": "[encoded data removed]"
          },
          "metadata": {}
        },
        {
          "output_type": "display_data",
          "data": {
            "text/plain": [
              "<IPython.core.display.HTML object>"
            ],
            "text/html": [
              "<hr><p style='font-size: large'><b>Text:  </b><span style='background-color:#ffffff;'>french <span> <span style='background-color:#ff4141;'>state <span> <span style='background-color:#ff6767;'>gives <span> <span style='background-color:#ff1c1c;'>benefit <span> <span style='background-color:#ff1e1e;'>people <span> <span style='background-color:#ff0909;'>unemployed <span> <span style='background-color:#ff4242;'>covid <span> <span style='background-color:#ff1818;'>partially <span> <span style='background-color:#ff0202;'>due <span> <span style='background-color:#ff0000;'>coronavirus <span> "
            ]
          },
          "metadata": {}
        },
        {
          "output_type": "display_data",
          "data": {
            "text/plain": [
              "<Figure size 360x144 with 1 Axes>"
            ],
            "image/png": "[encoded data removed]"
          },
          "metadata": {}
        },
        {
          "output_type": "display_data",
          "data": {
            "text/plain": [
              "<IPython.core.display.HTML object>"
            ],
            "text/html": [
              "<hr><p style='font-size: large'><b>Text:  </b><span style='background-color:#ffffff;'>a <span> <span style='background-color:#ff2d2d;'>video <span> <span style='background-color:#ff1313;'>shows <span> <span style='background-color:#ff0b0b;'>new <span> <span style='background-color:#ff0d0d;'>hospital <span> <span style='background-color:#ff0101;'>coronavirus <span> <span style='background-color:#ff0000;'>patients <span> <span style='background-color:#ff0707;'>china <span> "
            ]
          },
          "metadata": {}
        },
        {
          "output_type": "display_data",
          "data": {
            "text/plain": [
              "<Figure size 360x144 with 1 Axes>"
            ],
            "image/png": "[encoded data removed]"
          },
          "metadata": {}
        },
        {
          "output_type": "display_data",
          "data": {
            "text/plain": [
              "<IPython.core.display.HTML object>"
            ],
            "text/html": [
              "<hr><p style='font-size: large'><b>Text:  </b><span style='background-color:#ff2121;'>shortage <span> <span style='background-color:#ff0f0f;'>oxygen <span> <span style='background-color:#ff0909;'>supply <span> <span style='background-color:#ff3737;'>country <span> <span style='background-color:#ff0303;'>today <span> <span style='background-color:#ff0404;'>s <span> <span style='background-color:#ff0101;'>capacity <span> <span style='background-color:#ff0000;'>production <span> <span style='background-color:#ff0505;'>slightly <span> <span style='background-color:#ff3c3c;'>metric <span> <span style='background-color:#ff3939;'>tonne <span> <span style='background-color:#ff0707;'>consumed <span> <span style='background-color:#ff1313;'>well <span> <span style='background-color:#ff2b2b;'>non <span> <span style='background-color:#ff2121;'>covid <span> <span style='background-color:#ff0909;'>patients <span> <span style='background-color:#ff7373;'>day <span> <span style='background-color:#ffffff;'>secretary <span> "
            ]
          },
          "metadata": {}
        },
        {
          "output_type": "display_data",
          "data": {
            "text/plain": [
              "<Figure size 360x144 with 1 Axes>"
            ],
            "image/png": "[encoded data removed]"
          },
          "metadata": {}
        },
        {
          "output_type": "display_data",
          "data": {
            "text/plain": [
              "<IPython.core.display.HTML object>"
            ],
            "text/html": [
              "<hr><p style='font-size: large'><b>Text:  </b><span style='background-color:#ff1515;'>coronavirus <span> <span style='background-color:#ff0e0e;'>dangerous <span> <span style='background-color:#ff0808;'>flu <span> <span style='background-color:#ff0202;'>diseases <span> <span style='background-color:#ff0a0a;'>death <span> <span style='background-color:#ff0202;'>rate <span> <span style='background-color:#ff0505;'>air <span> <span style='background-color:#ff0000;'>pollution <span> <span style='background-color:#ff0505;'>bad <span> <span style='background-color:#ff0808;'>hygiene <span> <span style='background-color:#ff0505;'>conditions <span> <span style='background-color:#ff0c0c;'>italian <span> <span style='background-color:#ff0202;'>hospitals <span> <span style='background-color:#ff0707;'>hospital <span> <span style='background-color:#ff0303;'>terms <span> <span style='background-color:#ff0404;'>responsible <span> <span style='background-color:#ff0404;'>many <span> <span style='background-color:#ff0303;'>cases <span> <span style='background-color:#ff1c1c;'>whole <span> <span style='background-color:#ff0b0b;'>population <span> <span style='background-color:#ff1616;'>endangered <span> <span style='background-color:#ffffff;'>covid <span> "
            ]
          },
          "metadata": {}
        },
        {
          "output_type": "display_data",
          "data": {
            "text/plain": [
              "<Figure size 360x144 with 1 Axes>"
            ],
            "image/png": "[encoded data removed]"
          },
          "metadata": {}
        },
        {
          "output_type": "display_data",
          "data": {
            "text/plain": [
              "<IPython.core.display.HTML object>"
            ],
            "text/html": [
              "<hr><p style='font-size: large'><b>Text:  </b><span style='background-color:#ffffff;'>know <span> <span style='background-color:#ff1c1c;'>delay <span> <span style='background-color:#ffc7c7;'>travel <span> <span style='background-color:#ff0000;'>check <span> <span style='background-color:#ff0101;'>common <span> <span style='background-color:#ff0808;'>situations <span> <span style='background-color:#ff2525;'>talk <span> <span style='background-color:#ff0404;'>healthcare <span> <span style='background-color:#ff1616;'>provider <span> <span style='background-color:#ff4444;'>unsure <span> <span style='background-color:#ff4646;'>whether <span> <span style='background-color:#ff6e6e;'>apply <span> "
            ]
          },
          "metadata": {}
        },
        {
          "output_type": "display_data",
          "data": {
            "text/plain": [
              "<Figure size 360x144 with 1 Axes>"
            ],
            "image/png": "[encoded data removed]"
          },
          "metadata": {}
        },
        {
          "output_type": "display_data",
          "data": {
            "text/plain": [
              "<IPython.core.display.HTML object>"
            ],
            "text/html": [
              "<hr><p style='font-size: large'><b>Text:  </b><span style='background-color:#ff0808;'>outbreak <span> <span style='background-color:#ff0000;'>reports <span> <span style='background-color:#ff0202;'>related <span> <span style='background-color:#ff0505;'>crowded <span> <span style='background-color:#ff0808;'>indoor <span> <span style='background-color:#ff0303;'>spaces <span> <span style='background-color:#ff0303;'>suggested <span> <span style='background-color:#ff0707;'>possibility <span> <span style='background-color:#ff1111;'>aerosol <span> <span style='background-color:#ff1515;'>transmission <span> <span style='background-color:#ff2727;'>combined <span> <span style='background-color:#ffffff;'>wi <span> "
            ]
          },
          "metadata": {}
        },
        {
          "output_type": "display_data",
          "data": {
            "text/plain": [
              "<Figure size 360x144 with 1 Axes>"
            ],
            "image/png": "[encoded data removed]"
          },
          "metadata": {}
        },
        {
          "output_type": "display_data",
          "data": {
            "text/plain": [
              "<IPython.core.display.HTML object>"
            ],
            "text/html": [
              "<hr><p style='font-size: large'><b>Text:  </b><span style='background-color:#ff9d9d;'>images <span> <span style='background-color:#ffe3e3;'>showing <span> <span style='background-color:#ff3a3a;'>vaccines <span> <span style='background-color:#ff0101;'>coronavirus <span> <span style='background-color:#ff0808;'>already <span> <span style='background-color:#ff0000;'>discovered <span> <span style='background-color:#ff2222;'>patented <span> <span style='background-color:#ff6b6b;'>readily <span> <span style='background-color:#ffffff;'>available <span> "
            ]
          },
          "metadata": {}
        },
        {
          "output_type": "display_data",
          "data": {
            "text/plain": [
              "<Figure size 360x144 with 1 Axes>"
            ],
            "image/png": "[encoded data removed]"
          },
          "metadata": {}
        },
        {
          "output_type": "display_data",
          "data": {
            "text/plain": [
              "<IPython.core.display.HTML object>"
            ],
            "text/html": [
              "<hr><p style='font-size: large'><b>Text:  </b><span style='background-color:#ff4d4d;'>widow <span> <span style='background-color:#ff0c0c;'>distinguished <span> <span style='background-color:#ff0808;'>us <span> <span style='background-color:#ff1414;'>military <span> <span style='background-color:#ff0101;'>officer <span> <span style='background-color:#ff0303;'>would <span> <span style='background-color:#ff0606;'>never <span> <span style='background-color:#ff3333;'>affiliate <span> <span style='background-color:#ffdede;'>w <span> <span style='background-color:#ffffff;'>biden <span> <span style='background-color:#ff0b0b;'>deep <span> <span style='background-color:#ff0808;'>ties <span> <span style='background-color:#ff1717;'>adversary <span> <span style='background-color:#ff1111;'>ccp <span> <span style='background-color:#ff0e0e;'>stuck <span> <span style='background-color:#ff0101;'>launched <span> <span style='background-color:#ff0d0d;'>bioweapon <span> <span style='background-color:#ff1111;'>covid <span> <span style='background-color:#ff0e0e;'>soil <span> <span style='background-color:#ff0404;'>americans <span> <span style='background-color:#ff1414;'>spilled <span> <span style='background-color:#ff1d1d;'>blood <span> <span style='background-color:#ff5858;'>hands <span> "
            ]
          },
          "metadata": {}
        },
        {
          "output_type": "display_data",
          "data": {
            "text/plain": [
              "<Figure size 360x144 with 1 Axes>"
            ],
            "image/png": "[encoded data removed]"
          },
          "metadata": {}
        },
        {
          "output_type": "display_data",
          "data": {
            "text/plain": [
              "<IPython.core.display.HTML object>"
            ],
            "text/html": [
              "<hr><p style='font-size: large'><b>Text:  </b><span style='background-color:#ff0e0e;'>emotional <span> <span style='background-color:#ff0202;'>toll <span> <span style='background-color:#ff0404;'>real <span> <span style='background-color:#ff0202;'>especially <span> <span style='background-color:#ff0101;'>among <span> <span style='background-color:#ff0101;'>people <span> <span style='background-color:#ff0101;'>racial <span> <span style='background-color:#ff0000;'>ethnic <span> <span style='background-color:#ff0101;'>minority <span> <span style='background-color:#ff0101;'>groups <span> <span style='background-color:#ff0202;'>equally <span> <span style='background-color:#ff0202;'>affected <span> <span style='background-color:#ff0b0b;'>pandemic <span> <span style='background-color:#ff2020;'>help <span> <span style='background-color:#ff7c7c;'>save <span> <span style='background-color:#ffffff;'>life <span> "
            ]
          },
          "metadata": {}
        },
        {
          "output_type": "display_data",
          "data": {
            "text/plain": [
              "<Figure size 360x144 with 1 Axes>"
            ],
            "image/png": "[encoded data removed]"
          },
          "metadata": {}
        },
        {
          "output_type": "display_data",
          "data": {
            "text/plain": [
              "<IPython.core.display.HTML object>"
            ],
            "text/html": [
              "<hr><p style='font-size: large'><b>Text:  </b><span style='background-color:#ffffff;'>messages <span> <span style='background-color:#ff2020;'>claim <span> <span style='background-color:#ff0000;'>government <span> <span style='background-color:#ff4e4e;'>knows <span> <span style='background-color:#ff0b0b;'>times <span> <span style='background-color:#ff1414;'>thanks <span> <span style='background-color:#ff0e0e;'>application <span> <span style='background-color:#ff0c0c;'>google <span> <span style='background-color:#ff3030;'>installed <span> <span style='background-color:#ffe7e7;'>phones <span> "
            ]
          },
          "metadata": {}
        },
        {
          "output_type": "display_data",
          "data": {
            "text/plain": [
              "<Figure size 360x144 with 1 Axes>"
            ],
            "image/png": "[encoded data removed]"
          },
          "metadata": {}
        },
        {
          "output_type": "display_data",
          "data": {
            "text/plain": [
              "<IPython.core.display.HTML object>"
            ],
            "text/html": [
              "<hr><p style='font-size: large'><b>Text:  </b><span style='background-color:#ffffff;'>covid <span> <span style='background-color:#ff5151;'>patient <span> <span style='background-color:#ff8282;'>kingur <span> <span style='background-color:#ff0f0f;'>india <span> <span style='background-color:#ff1313;'>left <span> <span style='background-color:#ff2e2e;'>outside <span> <span style='background-color:#ff0808;'>hospital <span> <span style='background-color:#ff1111;'>without <span> <span style='background-color:#ff0000;'>treatment <span> "
            ]
          },
          "metadata": {}
        },
        {
          "output_type": "display_data",
          "data": {
            "text/plain": [
              "<Figure size 360x144 with 1 Axes>"
            ],
            "image/png": "[encoded data removed]"
          },
          "metadata": {}
        },
        {
          "output_type": "display_data",
          "data": {
            "text/plain": [
              "<IPython.core.display.HTML object>"
            ],
            "text/html": [
              "<hr><p style='font-size: large'><b>Text:  </b><span style='background-color:#ff0505;'>coca <span> <span style='background-color:#ff4747;'>call <span> <span style='background-color:#ff2a2a;'>wednesday <span> <span style='background-color:#ff1f1f;'>june <span> <span style='background-color:#ff1313;'>rd <span> <span style='background-color:#ff0f0f;'>pm <span> <span style='background-color:#ff0c0c;'>et <span> <span style='background-color:#ff0202;'>also <span> <span style='background-color:#ff0202;'>available <span> <span style='background-color:#ff0000;'>facebook <span> <span style='background-color:#ff0101;'>profile <span> <span style='background-color:#ff0101;'>via <span> <span style='background-color:#ff0202;'>live <span> <span style='background-color:#ff0101;'>topic <span> <span style='background-color:#ff0202;'>guidance <span> <span style='background-color:#ff0606;'>dental <span> <span style='background-color:#ff0505;'>settings <span> <span style='background-color:#ff0707;'>response <span> <span style='background-color:#ff3d3d;'>learn <span> "
            ]
          },
          "metadata": {}
        },
        {
          "output_type": "display_data",
          "data": {
            "text/plain": [
              "<Figure size 360x144 with 1 Axes>"
            ],
            "image/png": "[encoded data removed]"
          },
          "metadata": {}
        },
        {
          "output_type": "display_data",
          "data": {
            "text/plain": [
              "<IPython.core.display.HTML object>"
            ],
            "text/html": [
              "<hr><p style='font-size: large'><b>Text:  </b><span style='background-color:#ff0101;'>total <span> <span style='background-color:#ff0f0f;'>cases <span> <span style='background-color:#ff0101;'>india <span> <span style='background-color:#ff0101;'>august <span> <span style='background-color:#ff0101;'>cured <span> <span style='background-color:#ff0303;'>discharged <span> <span style='background-color:#ff0808;'>migrated <span> <span style='background-color:#ff0b0b;'>active <span> <span style='background-color:#ff2323;'>deaths <span> <span style='background-color:#ff0101;'>covid <span> <span style='background-color:#ff0101;'>confirmed <span> <span style='background-color:#ffffff;'>via <span> "
            ]
          },
          "metadata": {}
        },
        {
          "output_type": "display_data",
          "data": {
            "text/plain": [
              "<Figure size 360x144 with 1 Axes>"
            ],
            "image/png": "[encoded data removed]"
          },
          "metadata": {}
        },
        {
          "output_type": "display_data",
          "data": {
            "text/plain": [
              "<IPython.core.display.HTML object>"
            ],
            "text/html": [
              "<hr><p style='font-size: large'><b>Text:  </b><span style='background-color:#ffffff;'>sixth <span> <span style='background-color:#ffaeae;'>time <span> <span style='background-color:#ff0e0e;'>global <span> <span style='background-color:#ff0404;'>health <span> <span style='background-color:#ff0404;'>emergency <span> <span style='background-color:#ff0000;'>declared <span> <span style='background-color:#ff0707;'>international <span> <span style='background-color:#ff0606;'>regulations <span> <span style='background-color:#ff3636;'>easily <span> <span style='background-color:#ffafaf;'>severe <span> "
            ]
          },
          "metadata": {}
        },
        {
          "output_type": "display_data",
          "data": {
            "text/plain": [
              "<Figure size 360x144 with 1 Axes>"
            ],
            "image/png": "[encoded data removed]"
          },
          "metadata": {}
        },
        {
          "output_type": "display_data",
          "data": {
            "text/plain": [
              "<IPython.core.display.HTML object>"
            ],
            "text/html": [
              "<hr><p style='font-size: large'><b>Text:  </b><span style='background-color:#ff0404;'>instance <span> <span style='background-color:#ff0101;'>individuals <span> <span style='background-color:#ff0101;'>tested <span> <span style='background-color:#ff0101;'>prior <span> <span style='background-color:#ff0101;'>leaving <span> <span style='background-color:#ff0000;'>managed <span> <span style='background-color:#ff0101;'>isolation <span> <span style='background-color:#ff0101;'>facility <span> <span style='background-color:#ff0101;'>ministry <span> <span style='background-color:#ff0101;'>health <span> <span style='background-color:#ff0505;'>put <span> <span style='background-color:#ff0a0a;'>place <span> <span style='background-color:#ff0707;'>number <span> <span style='background-color:#ff0909;'>actions <span> <span style='background-color:#ff0d0d;'>make <span> <span style='background-color:#ff1010;'>sure <span> <span style='background-color:#ff1818;'>anyone <span> <span style='background-color:#ff0f0f;'>arriving <span> <span style='background-color:#ff1515;'>new <span> <span style='background-color:#ff2020;'>zealand <span> <span style='background-color:#ff8383;'>pose <span> <span style='background-color:#ff1515;'>risk <span> <span style='background-color:#ffffff;'>covid <span> "
            ]
          },
          "metadata": {}
        },
        {
          "output_type": "display_data",
          "data": {
            "text/plain": [
              "<Figure size 360x144 with 1 Axes>"
            ],
            "image/png": "[encoded data removed]"
          },
          "metadata": {}
        },
        {
          "output_type": "display_data",
          "data": {
            "text/plain": [
              "<IPython.core.display.HTML object>"
            ],
            "text/html": [
              "<hr><p style='font-size: large'><b>Text:  </b><span style='background-color:#ff0101;'>week <span> <span style='background-color:#ff0101;'>medical <span> <span style='background-color:#ffffff;'>lab <span> <span style='background-color:#ff0000;'>scientists <span> <span style='background-color:#ff0101;'>within <span> <span style='background-color:#ff0101;'>cdc <span> <span style='background-color:#ff0101;'>network <span> <span style='background-color:#ff0101;'>day <span> <span style='background-color:#ff0101;'>training <span> <span style='background-color:#ff0404;'>biosafety <span> <span style='background-color:#ff0404;'>risk <span> <span style='background-color:#ff0101;'>assessment <span> <span style='background-color:#ff0101;'>aims <span> <span style='background-color:#ff0101;'>strengthening <span> <span style='background-color:#ff0101;'>laboratory <span> <span style='background-color:#ff0101;'>staff <span> <span style='background-color:#ff0202;'>skills <span> <span style='background-color:#ff0202;'>appropriate <span> <span style='background-color:#ff0303;'>practices <span> <span style='background-color:#ff0e0e;'>amp <span> <span style='background-color:#ff0e0e;'>control <span> <span style='background-color:#ff0c0c;'>measures <span> <span style='background-color:#ff5a5a;'>needed <span> "
            ]
          },
          "metadata": {}
        },
        {
          "output_type": "display_data",
          "data": {
            "text/plain": [
              "<Figure size 360x144 with 1 Axes>"
            ],
            "image/png": "[encoded data removed]"
          },
          "metadata": {}
        },
        {
          "output_type": "display_data",
          "data": {
            "text/plain": [
              "<IPython.core.display.HTML object>"
            ],
            "text/html": [
              "<hr><p style='font-size: large'><b>Text:  </b><span style='background-color:#ff7c7c;'>covid <span> <span style='background-color:#ff0d0d;'>metrics <span> <span style='background-color:#ff0808;'>probable <span> <span style='background-color:#ff0000;'>cases <span> <span style='background-color:#ff0202;'>one <span> <span style='background-color:#ff0101;'>complex <span> <span style='background-color:#ff0101;'>data <span> <span style='background-color:#ff0404;'>points <span> <span style='background-color:#ff0606;'>took <span> <span style='background-color:#ff0d0d;'>close <span> <span style='background-color:#ff2121;'>look <span> <span style='background-color:#ff1e1e;'>official <span> <span style='background-color:#ff0a0a;'>guidelines <span> <span style='background-color:#ff2b2b;'>numbers <span> <span style='background-color:#ff7676;'>date <span> <span style='background-color:#ffffff;'>turned <span> <span style='background-color:#ff7b7b;'>details <span> "
            ]
          },
          "metadata": {}
        },
        {
          "output_type": "display_data",
          "data": {
            "text/plain": [
              "<Figure size 360x144 with 1 Axes>"
            ],
            "image/png": "[encoded data removed]"
          },
          "metadata": {}
        },
        {
          "output_type": "display_data",
          "data": {
            "text/plain": [
              "<IPython.core.display.HTML object>"
            ],
            "text/html": [
              "<hr><p style='font-size: large'><b>Text:  </b><span style='background-color:#ff9494;'>claim <span> <span style='background-color:#ff6464;'>indian <span> <span style='background-color:#ff3737;'>prime <span> <span style='background-color:#ff1d1d;'>minister <span> <span style='background-color:#ff1d1d;'>modi <span> <span style='background-color:#ff1f1f;'>said <span> <span style='background-color:#ff1414;'>one <span> <span style='background-color:#ff0000;'>crore <span> <span style='background-color:#ff0101;'>million <span> <span style='background-color:#ff0d0d;'>covid <span> <span style='background-color:#ff0707;'>positive <span> <span style='background-color:#ff0707;'>patients <span> <span style='background-color:#ff8484;'>treated <span> <span style='background-color:#ffffff;'>free <span> "
            ]
          },
          "metadata": {}
        },
        {
          "output_type": "display_data",
          "data": {
            "text/plain": [
              "<Figure size 360x144 with 1 Axes>"
            ],
            "image/png": "[encoded data removed]"
          },
          "metadata": {}
        },
        {
          "output_type": "display_data",
          "data": {
            "text/plain": [
              "<IPython.core.display.HTML object>"
            ],
            "text/html": [
              "<hr><p style='font-size: large'><b>Text:  </b><span style='background-color:#ffffff;'>brazilian <span> <span style='background-color:#ffbaba;'>mainstream <span> <span style='background-color:#ff3434;'>media <span> <span style='background-color:#ff8d8d;'>say <span> <span style='background-color:#ff8585;'>anything <span> <span style='background-color:#ff5b5b;'>former <span> <span style='background-color:#ff6363;'>president <span> <span style='background-color:#ff9e9e;'>said <span> <span style='background-color:#ff6363;'>fortunately <span> <span style='background-color:#ff8282;'>nature <span> <span style='background-color:#ff4242;'>created <span> <span style='background-color:#ffbdbd;'>monster <span> <span style='background-color:#ff7a7a;'>called <span> <span style='background-color:#ff0000;'>coronavirus <span> "
            ]
          },
          "metadata": {}
        },
        {
          "output_type": "display_data",
          "data": {
            "text/plain": [
              "<Figure size 360x144 with 1 Axes>"
            ],
            "image/png": "[encoded data removed]"
          },
          "metadata": {}
        }
      ],
      "source": [
        "for _ in range(25):\n",
        "    visualize_attention()"
      ],
      "id": "WYgf970SwTBO"
    },
    {
      "cell_type": "code",
      "source": [
        "test_pred = model.predict([X_te], batch_size=1024, verbose=1)\n",
        "test_pred_thresh = (test_pred>max_thresh).astype(int)"
      ],
      "metadata": {
        "colab": {
          "base_uri": "https://localhost:8080/"
        },
        "id": "Yaol11rbHj9M",
        "outputId": "eea96e8c-956a-4313-e07a-80196f0194c5"
      },
      "id": "Yaol11rbHj9M",
      "execution_count": null,
      "outputs": [
        {
          "output_type": "stream",
          "name": "stdout",
          "text": [
            "3/3 [==============================] - 0s 35ms/step\n"
          ]
        }
      ]
    },
    {
      "cell_type": "markdown",
      "source": [
        "\n",
        "1.   no oversampling: always predicts 0 (real)\n",
        "\n",
        "\n",
        "1.   if oversampling and 3 epochs (same for 15 epochs): always predicts 1 (fake)\n",
        "\n",
        "\n"
      ],
      "metadata": {
        "id": "9mB5ysehIREl"
      },
      "id": "9mB5ysehIREl"
    },
    {
      "cell_type": "code",
      "source": [
        "from sklearn.metrics import confusion_matrix,accuracy_score,roc_auc_score,roc_curve,auc\n",
        "test_pred = test_pred.round()\n",
        "\n",
        "print(metrics.classification_report(Y_te, test_pred,  digits=5))\n",
        "print(confusion_matrix(Y_te, test_pred))\n"
      ],
      "metadata": {
        "colab": {
          "base_uri": "https://localhost:8080/"
        },
        "id": "MJIWL7SQSwSz",
        "outputId": "52f21684-50fa-481d-c533-b9cebafa5c62"
      },
      "id": "MJIWL7SQSwSz",
      "execution_count": null,
      "outputs": [
        {
          "output_type": "stream",
          "name": "stdout",
          "text": [
            "              precision    recall  f1-score   support\n",
            "\n",
            "           0    0.92431   0.92761   0.92596      1119\n",
            "           1    0.92028   0.91667   0.91847      1020\n",
            "\n",
            "    accuracy                        0.92239      2139\n",
            "   macro avg    0.92229   0.92214   0.92221      2139\n",
            "weighted avg    0.92239   0.92239   0.92239      2139\n",
            "\n",
            "[[1038   81]\n",
            " [  85  935]]\n"
          ]
        }
      ]
    },
    {
      "cell_type": "markdown",
      "source": [
        "source: https://www.kaggle.com/alber8295/bigru-w-attention-visualized-for-beginners"
      ],
      "metadata": {
        "id": "aC3Y_9Pm0bkP"
      },
      "id": "aC3Y_9Pm0bkP"
    }
  ],
  "metadata": {
    "kernelspec": {
      "display_name": "Python 3",
      "language": "python",
      "name": "python3"
    },
    "language_info": {
      "codemirror_mode": {
        "name": "ipython",
        "version": 3
      },
      "file_extension": ".py",
      "mimetype": "text/x-python",
      "name": "python",
      "nbconvert_exporter": "python",
      "pygments_lexer": "ipython3",
      "version": "3.8.5"
    },
    "colab": {
      "name": "BIGRU_GLOVE.ipynb",
      "provenance": []
    },
    "accelerator": "GPU"
  },
  "nbformat": 4,
  "nbformat_minor": 5
}